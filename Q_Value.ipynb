{
 "cells": [
  {
   "cell_type": "code",
   "execution_count": null,
   "metadata": {},
   "outputs": [],
   "source": [
    "#This Scipt is in incomplete"
   ]
  },
  {
   "cell_type": "code",
   "execution_count": 24,
   "metadata": {},
   "outputs": [
    {
     "data": {
      "text/plain": [
       "'321-32+'"
      ]
     },
     "execution_count": 24,
     "metadata": {},
     "output_type": "execute_result"
    }
   ],
   "source": [
    "class Solution:\n",
    "    def calculate(self, s: str) -> int:\n",
    "        s = s.replace(' ','')\n",
    "        if len(s)==0:\n",
    "            return 0\n",
    "        op = ['*','/', '+','-']\n",
    "        for o in op:\n",
    "            while True:\n",
    "                try:\n",
    "                    i = s.index(o)\n",
    "                except:\n",
    "                    break\n",
    "                first,second=1,1\n",
    "                t = s[:i][::-1]\n",
    "                u = s[i+1:]\n",
    "                x = len(t)\n",
    "                y = len(u)\n",
    "                for k in op:\n",
    "                    try:\n",
    "                        x = min(x, t.index(k))\n",
    "                    except:\n",
    "                        pass\n",
    "                    try:\n",
    "                        y = min(y, u.index(k))\n",
    "                    except:\n",
    "                        pass\n",
    "                print(t,i,x,s[i-x:i])\n",
    "                first = int(s[i-x:i])\n",
    "                second = int(s[i+1:i+y+1])\n",
    "                if o == '*':\n",
    "                    s = s[:i-x]+str(int(first*second))+s[i+y+1:]\n",
    "                elif o == '/':\n",
    "                    s = s[:i-x]+str(int(first/second))+s[i+y+1:]\n",
    "                elif o == '+':\n",
    "                    s = s[:i-x]+str(int(first+second))+s[i+y+1:]\n",
    "                elif o == '-':\n",
    "                    s = s[:i-x]+str(int(first-second))+s[i+y+1:]\n",
    "            if len(s)==1:\n",
    "                break\n",
    "        return int(s)"
   ]
  },
  {
   "cell_type": "code",
   "execution_count": 28,
   "metadata": {},
   "outputs": [
    {
     "data": {
      "text/plain": [
       "'3'"
      ]
     },
     "execution_count": 28,
     "metadata": {},
     "output_type": "execute_result"
    }
   ],
   "source": [
    "s = '123'\n",
    "s[2:3]"
   ]
  },
  {
   "cell_type": "code",
   "execution_count": 2,
   "metadata": {},
   "outputs": [],
   "source": [
    "from sys import maxsize\n",
    "import time\n",
    "WIN_VALUE = 10\n",
    "LOSS_VALUE = -10\n",
    "N=5\n",
    "depth_cutoff = 6\n",
    "komi = N/2\n",
    "prev = []\n",
    "new = []\n",
    "vacant_positions = set({})"
   ]
  },
  {
   "cell_type": "code",
   "execution_count": 3,
   "metadata": {},
   "outputs": [],
   "source": [
    "file_r = open(r\"C:\\Users\\abc\\Desktop\\USC\\Spring 20\\CSCI 561 - AI\\HW\\HW2\\input.txt\", \"r\")\n",
    "file_w = open(r\"C:\\Users\\abc\\Desktop\\USC\\Spring 20\\CSCI 561 - AI\\HW\\HW2\\output.txt\", \"w\")\n",
    "# file_r = open(r\"input.txt\", \"r\")\n",
    "# file_w = open(r\"output.txt\", \"w\")\n",
    "inp = file_r.read().split('\\n')\n",
    "iam = int(inp[0])\n",
    "opponent = 1 if iam==2 else 2\n",
    "for i in range(1,N+1):\n",
    "    row = []\n",
    "    for j in inp[i]:\n",
    "        row.append(int(j))\n",
    "    prev.append(row)\n",
    "\n",
    "for i in range(N+1,(2*N)+1):\n",
    "    row = []\n",
    "    for j in inp[i]:\n",
    "        if int(j)==0:\n",
    "            vacant_positions.add((len(row),i-N-1))\n",
    "        row.append(int(j))\n",
    "    new.append(row)"
   ]
  },
  {
   "cell_type": "code",
   "execution_count": 4,
   "metadata": {},
   "outputs": [
    {
     "name": "stdout",
     "output_type": "stream",
     "text": [
      "[[0, 0, 1, 1, 0], [0, 0, 2, 1, 0], [0, 0, 2, 0, 0], [0, 2, 0, 0, 0], [0, 0, 0, 0, 0]]\n",
      "[[0, 0, 1, 1, 0], [0, 0, 2, 1, 0], [0, 0, 2, 0, 0], [0, 2, 0, 1, 0], [0, 0, 0, 0, 0]]\n"
     ]
    }
   ],
   "source": [
    "print(prev)\n",
    "print(new)"
   ]
  }
 ],
 "metadata": {
  "kernelspec": {
   "display_name": "Python 3",
   "language": "python",
   "name": "python3"
  },
  "language_info": {
   "codemirror_mode": {
    "name": "ipython",
    "version": 3
   },
   "file_extension": ".py",
   "mimetype": "text/x-python",
   "name": "python",
   "nbconvert_exporter": "python",
   "pygments_lexer": "ipython3",
   "version": "3.6.4"
  }
 },
 "nbformat": 4,
 "nbformat_minor": 2
}
